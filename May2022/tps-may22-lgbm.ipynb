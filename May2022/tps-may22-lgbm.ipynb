{
 "cells": [
  {
   "cell_type": "markdown",
   "id": "d0573132",
   "metadata": {
    "papermill": {
     "duration": 0.026442,
     "end_time": "2022-05-22T02:51:11.691107",
     "exception": false,
     "start_time": "2022-05-22T02:51:11.664665",
     "status": "completed"
    },
    "tags": []
   },
   "source": [
    "# Getting started with TensorFlow Decision Forests\n"
   ]
  },
  {
   "cell_type": "markdown",
   "id": "05e8d862",
   "metadata": {
    "papermill": {
     "duration": 0.025945,
     "end_time": "2022-05-22T02:51:11.743977",
     "exception": false,
     "start_time": "2022-05-22T02:51:11.718032",
     "status": "completed"
    },
    "tags": []
   },
   "source": [
    "## References : \n",
    "\n",
    "Getting started with TensorFlow Decision Forests by PAUL MOONEY\n",
    "https://www.kaggle.com/code/paultimothymooney/getting-started-with-tensorflow-decision-forests\n",
    "\n",
    "TPSMAY22 EDA which makes sense by AMBROSM\n",
    "https://www.kaggle.com/code/ambrosm/tpsmay22-eda-which-makes-sense/notebook\n",
    "\n",
    "[TPS-MAY-22] In-Depth EDA + Feature Engineering by CABAXIOM\n",
    "https://www.kaggle.com/code/cabaxiom/tps-may-22-in-depth-eda-feature-engineering/notebook\n",
    "\n",
    "Analysing Interactions with SHAP by WTI 200\n",
    "https://www.kaggle.com/code/wti200/analysing-interactions-with-shap/notebook\n",
    "\n",
    "\n",
    "\n"
   ]
  },
  {
   "cell_type": "markdown",
   "id": "a5172d6e",
   "metadata": {
    "papermill": {
     "duration": 0.025671,
     "end_time": "2022-05-22T02:51:11.796224",
     "exception": false,
     "start_time": "2022-05-22T02:51:11.770553",
     "status": "completed"
    },
    "tags": []
   },
   "source": [
    "# Introduction"
   ]
  },
  {
   "cell_type": "markdown",
   "id": "5067c687",
   "metadata": {
    "papermill": {
     "duration": 0.025899,
     "end_time": "2022-05-22T02:51:11.847727",
     "exception": false,
     "start_time": "2022-05-22T02:51:11.821828",
     "status": "completed"
    },
    "tags": []
   },
   "source": [
    "Step 1: Import Python packages"
   ]
  },
  {
   "cell_type": "code",
   "execution_count": 1,
   "id": "a8af3f41",
   "metadata": {
    "execution": {
     "iopub.execute_input": "2022-05-22T02:51:11.923054Z",
     "iopub.status.busy": "2022-05-22T02:51:11.922323Z",
     "iopub.status.idle": "2022-05-22T02:51:13.154908Z",
     "shell.execute_reply": "2022-05-22T02:51:13.154010Z"
    },
    "papermill": {
     "duration": 1.281709,
     "end_time": "2022-05-22T02:51:13.157530",
     "exception": false,
     "start_time": "2022-05-22T02:51:11.875821",
     "status": "completed"
    },
    "tags": []
   },
   "outputs": [],
   "source": [
    "# Import Python packages\n",
    "import os\n",
    "import numpy as np \n",
    "import pandas as pd \n",
    "import matplotlib.pyplot as plt\n",
    "import seaborn as sns\n"
   ]
  },
  {
   "cell_type": "code",
   "execution_count": 2,
   "id": "5ee85ae4",
   "metadata": {
    "execution": {
     "iopub.execute_input": "2022-05-22T02:51:13.215674Z",
     "iopub.status.busy": "2022-05-22T02:51:13.215352Z",
     "iopub.status.idle": "2022-05-22T02:51:13.222989Z",
     "shell.execute_reply": "2022-05-22T02:51:13.222302Z"
    },
    "papermill": {
     "duration": 0.038613,
     "end_time": "2022-05-22T02:51:13.224803",
     "exception": false,
     "start_time": "2022-05-22T02:51:13.186190",
     "status": "completed"
    },
    "tags": []
   },
   "outputs": [],
   "source": [
    "def expand_feature_27(data):\n",
    "    # This function was adapted from the following notebooks:\n",
    "    # https://www.kaggle.com/code/cabaxiom/tps-may-22-eda-lgbm-model and\n",
    "    # https://www.kaggle.com/code/ambrosm/tpsmay22-gradient-boosting-quickstart\n",
    "    for df in [data]:\n",
    "        # Extract the 10 letters of f_27 into individual features\n",
    "        for i in range(10):\n",
    "            df[f'ch{i}'] = df.f_27.str.get(i).apply(ord) - ord('A')\n",
    "        df[\"unique_characters\"] = df.f_27.apply(lambda s: len(set(s)))\n",
    "        # Feature interactions: create three ternary features\n",
    "        # Every ternary feature can have the values -1, 0 and +1\n",
    "        df['i_02_21'] = (df.f_21 + df.f_02 > 5.2).astype(int) - (df.f_21 + df.f_02 < -5.3).astype(int)\n",
    "        df['i_05_22'] = (df.f_22 + df.f_05 > 5.1).astype(int) - (df.f_22 + df.f_05 < -5.4).astype(int)\n",
    "        i_00_01_26 = df.f_00 + df.f_01 + df.f_26\n",
    "        df['i_00_01_26'] = (i_00_01_26 > 5.0).astype(int) - (i_00_01_26 < -5.0).astype(int)\n",
    "        return data"
   ]
  },
  {
   "cell_type": "markdown",
   "id": "069b413a",
   "metadata": {
    "papermill": {
     "duration": 0.028,
     "end_time": "2022-05-22T02:51:13.282054",
     "exception": false,
     "start_time": "2022-05-22T02:51:13.254054",
     "status": "completed"
    },
    "tags": []
   },
   "source": [
    "Step 2: Identify the location of the data"
   ]
  },
  {
   "cell_type": "code",
   "execution_count": 3,
   "id": "5650ae00",
   "metadata": {
    "_kg_hide-input": true,
    "execution": {
     "iopub.execute_input": "2022-05-22T02:51:13.339985Z",
     "iopub.status.busy": "2022-05-22T02:51:13.339459Z",
     "iopub.status.idle": "2022-05-22T02:51:13.345838Z",
     "shell.execute_reply": "2022-05-22T02:51:13.344909Z"
    },
    "papermill": {
     "duration": 0.037718,
     "end_time": "2022-05-22T02:51:13.348235",
     "exception": false,
     "start_time": "2022-05-22T02:51:13.310517",
     "status": "completed"
    },
    "tags": []
   },
   "outputs": [
    {
     "name": "stdout",
     "output_type": "stream",
     "text": [
      "/kaggle/input/tabular-playground-series-may-2022/sample_submission.csv\n",
      "/kaggle/input/tabular-playground-series-may-2022/train.csv\n",
      "/kaggle/input/tabular-playground-series-may-2022/test.csv\n"
     ]
    }
   ],
   "source": [
    "# print list of all data and files attached to this notebook\n",
    "for dirname, _, filenames in os.walk('/kaggle/input'):\n",
    "    for filename in filenames:\n",
    "        print(os.path.join(dirname, filename))"
   ]
  },
  {
   "cell_type": "markdown",
   "id": "c597f1b9",
   "metadata": {
    "papermill": {
     "duration": 0.0278,
     "end_time": "2022-05-22T02:51:13.404007",
     "exception": false,
     "start_time": "2022-05-22T02:51:13.376207",
     "status": "completed"
    },
    "tags": []
   },
   "source": [
    "Step 3: Load the data"
   ]
  },
  {
   "cell_type": "code",
   "execution_count": 4,
   "id": "3c58c0e2",
   "metadata": {
    "_kg_hide-output": true,
    "execution": {
     "iopub.execute_input": "2022-05-22T02:51:13.462324Z",
     "iopub.status.busy": "2022-05-22T02:51:13.461373Z",
     "iopub.status.idle": "2022-05-22T02:51:27.698144Z",
     "shell.execute_reply": "2022-05-22T02:51:27.697545Z"
    },
    "papermill": {
     "duration": 14.26927,
     "end_time": "2022-05-22T02:51:27.700262",
     "exception": false,
     "start_time": "2022-05-22T02:51:13.430992",
     "status": "completed"
    },
    "tags": []
   },
   "outputs": [],
   "source": [
    "# load to pandas dataframe (for data exploration)\n",
    "train_df = pd.read_csv('/kaggle/input/tabular-playground-series-may-2022/train.csv')\n",
    "test_df = pd.read_csv('/kaggle/input/tabular-playground-series-may-2022/test.csv')\n"
   ]
  },
  {
   "cell_type": "markdown",
   "id": "f11df314",
   "metadata": {
    "papermill": {
     "duration": 0.024903,
     "end_time": "2022-05-22T02:51:27.750498",
     "exception": false,
     "start_time": "2022-05-22T02:51:27.725595",
     "status": "completed"
    },
    "tags": []
   },
   "source": [
    "Step 4: Explore the data"
   ]
  },
  {
   "cell_type": "code",
   "execution_count": 5,
   "id": "8f6ac271",
   "metadata": {
    "execution": {
     "iopub.execute_input": "2022-05-22T02:51:27.804642Z",
     "iopub.status.busy": "2022-05-22T02:51:27.803588Z",
     "iopub.status.idle": "2022-05-22T02:51:27.808598Z",
     "shell.execute_reply": "2022-05-22T02:51:27.807883Z"
    },
    "papermill": {
     "duration": 0.03384,
     "end_time": "2022-05-22T02:51:27.810973",
     "exception": false,
     "start_time": "2022-05-22T02:51:27.777133",
     "status": "completed"
    },
    "tags": []
   },
   "outputs": [
    {
     "name": "stdout",
     "output_type": "stream",
     "text": [
      "Index(['id', 'f_00', 'f_01', 'f_02', 'f_03', 'f_04', 'f_05', 'f_06', 'f_07',\n",
      "       'f_08', 'f_09', 'f_10', 'f_11', 'f_12', 'f_13', 'f_14', 'f_15', 'f_16',\n",
      "       'f_17', 'f_18', 'f_19', 'f_20', 'f_21', 'f_22', 'f_23', 'f_24', 'f_25',\n",
      "       'f_26', 'f_27', 'f_28', 'f_29', 'f_30', 'target'],\n",
      "      dtype='object')\n"
     ]
    }
   ],
   "source": [
    "# print column names\n",
    "print(train_df.columns)"
   ]
  },
  {
   "cell_type": "code",
   "execution_count": 6,
   "id": "802d37b5",
   "metadata": {
    "execution": {
     "iopub.execute_input": "2022-05-22T02:51:27.864363Z",
     "iopub.status.busy": "2022-05-22T02:51:27.864096Z",
     "iopub.status.idle": "2022-05-22T02:51:27.898262Z",
     "shell.execute_reply": "2022-05-22T02:51:27.897449Z"
    },
    "papermill": {
     "duration": 0.062645,
     "end_time": "2022-05-22T02:51:27.900022",
     "exception": false,
     "start_time": "2022-05-22T02:51:27.837377",
     "status": "completed"
    },
    "tags": []
   },
   "outputs": [
    {
     "data": {
      "text/html": [
       "<div>\n",
       "<style scoped>\n",
       "    .dataframe tbody tr th:only-of-type {\n",
       "        vertical-align: middle;\n",
       "    }\n",
       "\n",
       "    .dataframe tbody tr th {\n",
       "        vertical-align: top;\n",
       "    }\n",
       "\n",
       "    .dataframe thead th {\n",
       "        text-align: right;\n",
       "    }\n",
       "</style>\n",
       "<table border=\"1\" class=\"dataframe\">\n",
       "  <thead>\n",
       "    <tr style=\"text-align: right;\">\n",
       "      <th></th>\n",
       "      <th>id</th>\n",
       "      <th>f_00</th>\n",
       "      <th>f_01</th>\n",
       "      <th>f_02</th>\n",
       "      <th>f_03</th>\n",
       "      <th>f_04</th>\n",
       "      <th>f_05</th>\n",
       "      <th>f_06</th>\n",
       "      <th>f_07</th>\n",
       "      <th>f_08</th>\n",
       "      <th>...</th>\n",
       "      <th>f_22</th>\n",
       "      <th>f_23</th>\n",
       "      <th>f_24</th>\n",
       "      <th>f_25</th>\n",
       "      <th>f_26</th>\n",
       "      <th>f_27</th>\n",
       "      <th>f_28</th>\n",
       "      <th>f_29</th>\n",
       "      <th>f_30</th>\n",
       "      <th>target</th>\n",
       "    </tr>\n",
       "  </thead>\n",
       "  <tbody>\n",
       "    <tr>\n",
       "      <th>0</th>\n",
       "      <td>0</td>\n",
       "      <td>-1.373246</td>\n",
       "      <td>0.238887</td>\n",
       "      <td>-0.243376</td>\n",
       "      <td>0.567405</td>\n",
       "      <td>-0.647715</td>\n",
       "      <td>0.839326</td>\n",
       "      <td>0.113133</td>\n",
       "      <td>1</td>\n",
       "      <td>5</td>\n",
       "      <td>...</td>\n",
       "      <td>-2.540739</td>\n",
       "      <td>0.766952</td>\n",
       "      <td>-2.730628</td>\n",
       "      <td>-0.208177</td>\n",
       "      <td>1.363402</td>\n",
       "      <td>ABABDADBAB</td>\n",
       "      <td>67.609153</td>\n",
       "      <td>0</td>\n",
       "      <td>0</td>\n",
       "      <td>0</td>\n",
       "    </tr>\n",
       "    <tr>\n",
       "      <th>1</th>\n",
       "      <td>1</td>\n",
       "      <td>1.697021</td>\n",
       "      <td>-1.710322</td>\n",
       "      <td>-2.230332</td>\n",
       "      <td>-0.545661</td>\n",
       "      <td>1.113173</td>\n",
       "      <td>-1.552175</td>\n",
       "      <td>0.447825</td>\n",
       "      <td>1</td>\n",
       "      <td>3</td>\n",
       "      <td>...</td>\n",
       "      <td>2.278315</td>\n",
       "      <td>-0.633658</td>\n",
       "      <td>-1.217077</td>\n",
       "      <td>-3.782194</td>\n",
       "      <td>-0.058316</td>\n",
       "      <td>ACACCADCEB</td>\n",
       "      <td>377.096415</td>\n",
       "      <td>0</td>\n",
       "      <td>0</td>\n",
       "      <td>1</td>\n",
       "    </tr>\n",
       "    <tr>\n",
       "      <th>2</th>\n",
       "      <td>2</td>\n",
       "      <td>1.681726</td>\n",
       "      <td>0.616746</td>\n",
       "      <td>-1.027689</td>\n",
       "      <td>0.810492</td>\n",
       "      <td>-0.609086</td>\n",
       "      <td>0.113965</td>\n",
       "      <td>-0.708660</td>\n",
       "      <td>1</td>\n",
       "      <td>0</td>\n",
       "      <td>...</td>\n",
       "      <td>-1.385775</td>\n",
       "      <td>-0.520558</td>\n",
       "      <td>-0.009121</td>\n",
       "      <td>2.788536</td>\n",
       "      <td>-3.703488</td>\n",
       "      <td>AAAEABCKAD</td>\n",
       "      <td>-195.599702</td>\n",
       "      <td>0</td>\n",
       "      <td>2</td>\n",
       "      <td>1</td>\n",
       "    </tr>\n",
       "    <tr>\n",
       "      <th>3</th>\n",
       "      <td>3</td>\n",
       "      <td>-0.118172</td>\n",
       "      <td>-0.587835</td>\n",
       "      <td>-0.804638</td>\n",
       "      <td>2.086822</td>\n",
       "      <td>0.371005</td>\n",
       "      <td>-0.128831</td>\n",
       "      <td>-0.282575</td>\n",
       "      <td>3</td>\n",
       "      <td>2</td>\n",
       "      <td>...</td>\n",
       "      <td>0.572594</td>\n",
       "      <td>-1.653213</td>\n",
       "      <td>1.686035</td>\n",
       "      <td>-2.533098</td>\n",
       "      <td>-0.608601</td>\n",
       "      <td>BDBBAACBCB</td>\n",
       "      <td>210.826205</td>\n",
       "      <td>0</td>\n",
       "      <td>0</td>\n",
       "      <td>1</td>\n",
       "    </tr>\n",
       "    <tr>\n",
       "      <th>4</th>\n",
       "      <td>4</td>\n",
       "      <td>1.148481</td>\n",
       "      <td>-0.176567</td>\n",
       "      <td>-0.664871</td>\n",
       "      <td>-1.101343</td>\n",
       "      <td>0.467875</td>\n",
       "      <td>0.500117</td>\n",
       "      <td>0.407515</td>\n",
       "      <td>3</td>\n",
       "      <td>3</td>\n",
       "      <td>...</td>\n",
       "      <td>-3.912929</td>\n",
       "      <td>-1.430366</td>\n",
       "      <td>2.127649</td>\n",
       "      <td>-3.306784</td>\n",
       "      <td>4.371371</td>\n",
       "      <td>BDBCBBCHFE</td>\n",
       "      <td>-217.211798</td>\n",
       "      <td>0</td>\n",
       "      <td>1</td>\n",
       "      <td>1</td>\n",
       "    </tr>\n",
       "    <tr>\n",
       "      <th>5</th>\n",
       "      <td>5</td>\n",
       "      <td>1.349785</td>\n",
       "      <td>1.100418</td>\n",
       "      <td>0.562612</td>\n",
       "      <td>-0.607076</td>\n",
       "      <td>1.264728</td>\n",
       "      <td>0.283515</td>\n",
       "      <td>-1.131953</td>\n",
       "      <td>6</td>\n",
       "      <td>2</td>\n",
       "      <td>...</td>\n",
       "      <td>-2.259781</td>\n",
       "      <td>-1.308329</td>\n",
       "      <td>-2.216110</td>\n",
       "      <td>1.016892</td>\n",
       "      <td>0.273792</td>\n",
       "      <td>BDAEDBDEDA</td>\n",
       "      <td>45.890998</td>\n",
       "      <td>0</td>\n",
       "      <td>1</td>\n",
       "      <td>0</td>\n",
       "    </tr>\n",
       "    <tr>\n",
       "      <th>6</th>\n",
       "      <td>6</td>\n",
       "      <td>1.904853</td>\n",
       "      <td>-0.174135</td>\n",
       "      <td>0.193908</td>\n",
       "      <td>-0.559832</td>\n",
       "      <td>-0.146990</td>\n",
       "      <td>-0.538386</td>\n",
       "      <td>0.270837</td>\n",
       "      <td>2</td>\n",
       "      <td>5</td>\n",
       "      <td>...</td>\n",
       "      <td>-2.832988</td>\n",
       "      <td>2.432185</td>\n",
       "      <td>-1.827240</td>\n",
       "      <td>1.192390</td>\n",
       "      <td>-0.333300</td>\n",
       "      <td>ACBCAAAHHE</td>\n",
       "      <td>358.058637</td>\n",
       "      <td>1</td>\n",
       "      <td>0</td>\n",
       "      <td>1</td>\n",
       "    </tr>\n",
       "    <tr>\n",
       "      <th>7</th>\n",
       "      <td>7</td>\n",
       "      <td>0.889100</td>\n",
       "      <td>0.388168</td>\n",
       "      <td>1.062274</td>\n",
       "      <td>-1.775401</td>\n",
       "      <td>0.852494</td>\n",
       "      <td>0.335741</td>\n",
       "      <td>0.510709</td>\n",
       "      <td>2</td>\n",
       "      <td>3</td>\n",
       "      <td>...</td>\n",
       "      <td>7.956038</td>\n",
       "      <td>2.663890</td>\n",
       "      <td>-0.593400</td>\n",
       "      <td>1.528621</td>\n",
       "      <td>0.972924</td>\n",
       "      <td>BBBDBBEPDB</td>\n",
       "      <td>-113.797366</td>\n",
       "      <td>1</td>\n",
       "      <td>1</td>\n",
       "      <td>0</td>\n",
       "    </tr>\n",
       "    <tr>\n",
       "      <th>8</th>\n",
       "      <td>8</td>\n",
       "      <td>0.866221</td>\n",
       "      <td>0.842351</td>\n",
       "      <td>-1.367634</td>\n",
       "      <td>1.237506</td>\n",
       "      <td>0.682962</td>\n",
       "      <td>0.845666</td>\n",
       "      <td>0.173852</td>\n",
       "      <td>3</td>\n",
       "      <td>2</td>\n",
       "      <td>...</td>\n",
       "      <td>-1.241121</td>\n",
       "      <td>-1.245038</td>\n",
       "      <td>1.696402</td>\n",
       "      <td>0.354545</td>\n",
       "      <td>-0.541267</td>\n",
       "      <td>ACAEBADDAA</td>\n",
       "      <td>-52.223857</td>\n",
       "      <td>0</td>\n",
       "      <td>0</td>\n",
       "      <td>0</td>\n",
       "    </tr>\n",
       "    <tr>\n",
       "      <th>9</th>\n",
       "      <td>9</td>\n",
       "      <td>0.829142</td>\n",
       "      <td>-0.082872</td>\n",
       "      <td>-0.206667</td>\n",
       "      <td>-0.032502</td>\n",
       "      <td>0.366289</td>\n",
       "      <td>0.277981</td>\n",
       "      <td>-1.113467</td>\n",
       "      <td>2</td>\n",
       "      <td>0</td>\n",
       "      <td>...</td>\n",
       "      <td>-3.117106</td>\n",
       "      <td>-3.609328</td>\n",
       "      <td>2.677487</td>\n",
       "      <td>-1.772600</td>\n",
       "      <td>-3.053609</td>\n",
       "      <td>BABCBBBABD</td>\n",
       "      <td>-42.976312</td>\n",
       "      <td>0</td>\n",
       "      <td>0</td>\n",
       "      <td>1</td>\n",
       "    </tr>\n",
       "  </tbody>\n",
       "</table>\n",
       "<p>10 rows × 33 columns</p>\n",
       "</div>"
      ],
      "text/plain": [
       "   id      f_00      f_01      f_02      f_03      f_04      f_05      f_06  \\\n",
       "0   0 -1.373246  0.238887 -0.243376  0.567405 -0.647715  0.839326  0.113133   \n",
       "1   1  1.697021 -1.710322 -2.230332 -0.545661  1.113173 -1.552175  0.447825   \n",
       "2   2  1.681726  0.616746 -1.027689  0.810492 -0.609086  0.113965 -0.708660   \n",
       "3   3 -0.118172 -0.587835 -0.804638  2.086822  0.371005 -0.128831 -0.282575   \n",
       "4   4  1.148481 -0.176567 -0.664871 -1.101343  0.467875  0.500117  0.407515   \n",
       "5   5  1.349785  1.100418  0.562612 -0.607076  1.264728  0.283515 -1.131953   \n",
       "6   6  1.904853 -0.174135  0.193908 -0.559832 -0.146990 -0.538386  0.270837   \n",
       "7   7  0.889100  0.388168  1.062274 -1.775401  0.852494  0.335741  0.510709   \n",
       "8   8  0.866221  0.842351 -1.367634  1.237506  0.682962  0.845666  0.173852   \n",
       "9   9  0.829142 -0.082872 -0.206667 -0.032502  0.366289  0.277981 -1.113467   \n",
       "\n",
       "   f_07  f_08  ...      f_22      f_23      f_24      f_25      f_26  \\\n",
       "0     1     5  ... -2.540739  0.766952 -2.730628 -0.208177  1.363402   \n",
       "1     1     3  ...  2.278315 -0.633658 -1.217077 -3.782194 -0.058316   \n",
       "2     1     0  ... -1.385775 -0.520558 -0.009121  2.788536 -3.703488   \n",
       "3     3     2  ...  0.572594 -1.653213  1.686035 -2.533098 -0.608601   \n",
       "4     3     3  ... -3.912929 -1.430366  2.127649 -3.306784  4.371371   \n",
       "5     6     2  ... -2.259781 -1.308329 -2.216110  1.016892  0.273792   \n",
       "6     2     5  ... -2.832988  2.432185 -1.827240  1.192390 -0.333300   \n",
       "7     2     3  ...  7.956038  2.663890 -0.593400  1.528621  0.972924   \n",
       "8     3     2  ... -1.241121 -1.245038  1.696402  0.354545 -0.541267   \n",
       "9     2     0  ... -3.117106 -3.609328  2.677487 -1.772600 -3.053609   \n",
       "\n",
       "         f_27        f_28  f_29  f_30  target  \n",
       "0  ABABDADBAB   67.609153     0     0       0  \n",
       "1  ACACCADCEB  377.096415     0     0       1  \n",
       "2  AAAEABCKAD -195.599702     0     2       1  \n",
       "3  BDBBAACBCB  210.826205     0     0       1  \n",
       "4  BDBCBBCHFE -217.211798     0     1       1  \n",
       "5  BDAEDBDEDA   45.890998     0     1       0  \n",
       "6  ACBCAAAHHE  358.058637     1     0       1  \n",
       "7  BBBDBBEPDB -113.797366     1     1       0  \n",
       "8  ACAEBADDAA  -52.223857     0     0       0  \n",
       "9  BABCBBBABD  -42.976312     0     0       1  \n",
       "\n",
       "[10 rows x 33 columns]"
      ]
     },
     "execution_count": 6,
     "metadata": {},
     "output_type": "execute_result"
    }
   ],
   "source": [
    "# preview first few rows of data\n",
    "train_df.head(10)"
   ]
  },
  {
   "cell_type": "code",
   "execution_count": 7,
   "id": "e06f0c2f",
   "metadata": {
    "execution": {
     "iopub.execute_input": "2022-05-22T02:51:27.955581Z",
     "iopub.status.busy": "2022-05-22T02:51:27.954628Z",
     "iopub.status.idle": "2022-05-22T02:51:29.130278Z",
     "shell.execute_reply": "2022-05-22T02:51:29.129310Z"
    },
    "papermill": {
     "duration": 1.205126,
     "end_time": "2022-05-22T02:51:29.132270",
     "exception": false,
     "start_time": "2022-05-22T02:51:27.927144",
     "status": "completed"
    },
    "tags": []
   },
   "outputs": [
    {
     "data": {
      "text/html": [
       "<div>\n",
       "<style scoped>\n",
       "    .dataframe tbody tr th:only-of-type {\n",
       "        vertical-align: middle;\n",
       "    }\n",
       "\n",
       "    .dataframe tbody tr th {\n",
       "        vertical-align: top;\n",
       "    }\n",
       "\n",
       "    .dataframe thead th {\n",
       "        text-align: right;\n",
       "    }\n",
       "</style>\n",
       "<table border=\"1\" class=\"dataframe\">\n",
       "  <thead>\n",
       "    <tr style=\"text-align: right;\">\n",
       "      <th></th>\n",
       "      <th>id</th>\n",
       "      <th>f_00</th>\n",
       "      <th>f_01</th>\n",
       "      <th>f_02</th>\n",
       "      <th>f_03</th>\n",
       "      <th>f_04</th>\n",
       "      <th>f_05</th>\n",
       "      <th>f_06</th>\n",
       "      <th>f_07</th>\n",
       "      <th>f_08</th>\n",
       "      <th>...</th>\n",
       "      <th>f_21</th>\n",
       "      <th>f_22</th>\n",
       "      <th>f_23</th>\n",
       "      <th>f_24</th>\n",
       "      <th>f_25</th>\n",
       "      <th>f_26</th>\n",
       "      <th>f_28</th>\n",
       "      <th>f_29</th>\n",
       "      <th>f_30</th>\n",
       "      <th>target</th>\n",
       "    </tr>\n",
       "  </thead>\n",
       "  <tbody>\n",
       "    <tr>\n",
       "      <th>count</th>\n",
       "      <td>900000.000000</td>\n",
       "      <td>900000.000000</td>\n",
       "      <td>900000.000000</td>\n",
       "      <td>900000.000000</td>\n",
       "      <td>900000.000000</td>\n",
       "      <td>900000.000000</td>\n",
       "      <td>900000.000000</td>\n",
       "      <td>900000.000000</td>\n",
       "      <td>900000.000000</td>\n",
       "      <td>900000.000000</td>\n",
       "      <td>...</td>\n",
       "      <td>900000.000000</td>\n",
       "      <td>900000.000000</td>\n",
       "      <td>900000.000000</td>\n",
       "      <td>900000.000000</td>\n",
       "      <td>900000.000000</td>\n",
       "      <td>900000.000000</td>\n",
       "      <td>900000.000000</td>\n",
       "      <td>900000.000000</td>\n",
       "      <td>900000.000000</td>\n",
       "      <td>900000.000000</td>\n",
       "    </tr>\n",
       "    <tr>\n",
       "      <th>mean</th>\n",
       "      <td>449999.500000</td>\n",
       "      <td>-0.000286</td>\n",
       "      <td>0.001165</td>\n",
       "      <td>0.001174</td>\n",
       "      <td>-0.001368</td>\n",
       "      <td>-0.000571</td>\n",
       "      <td>0.000284</td>\n",
       "      <td>-0.000709</td>\n",
       "      <td>2.031460</td>\n",
       "      <td>2.057998</td>\n",
       "      <td>...</td>\n",
       "      <td>-0.156307</td>\n",
       "      <td>-0.009273</td>\n",
       "      <td>-0.369459</td>\n",
       "      <td>-0.342738</td>\n",
       "      <td>0.176549</td>\n",
       "      <td>0.357591</td>\n",
       "      <td>-0.380876</td>\n",
       "      <td>0.345661</td>\n",
       "      <td>1.002654</td>\n",
       "      <td>0.486488</td>\n",
       "    </tr>\n",
       "    <tr>\n",
       "      <th>std</th>\n",
       "      <td>259807.765473</td>\n",
       "      <td>0.998888</td>\n",
       "      <td>0.999193</td>\n",
       "      <td>1.000514</td>\n",
       "      <td>1.000175</td>\n",
       "      <td>1.000167</td>\n",
       "      <td>0.999875</td>\n",
       "      <td>0.999942</td>\n",
       "      <td>1.656172</td>\n",
       "      <td>1.590955</td>\n",
       "      <td>...</td>\n",
       "      <td>2.484706</td>\n",
       "      <td>2.450797</td>\n",
       "      <td>2.453405</td>\n",
       "      <td>2.386941</td>\n",
       "      <td>2.416959</td>\n",
       "      <td>2.476020</td>\n",
       "      <td>238.773054</td>\n",
       "      <td>0.475584</td>\n",
       "      <td>0.818989</td>\n",
       "      <td>0.499818</td>\n",
       "    </tr>\n",
       "    <tr>\n",
       "      <th>min</th>\n",
       "      <td>0.000000</td>\n",
       "      <td>-4.599856</td>\n",
       "      <td>-4.682199</td>\n",
       "      <td>-4.642676</td>\n",
       "      <td>-4.658816</td>\n",
       "      <td>-4.748501</td>\n",
       "      <td>-4.750214</td>\n",
       "      <td>-4.842919</td>\n",
       "      <td>0.000000</td>\n",
       "      <td>0.000000</td>\n",
       "      <td>...</td>\n",
       "      <td>-13.310146</td>\n",
       "      <td>-11.853530</td>\n",
       "      <td>-12.301097</td>\n",
       "      <td>-11.416189</td>\n",
       "      <td>-11.918306</td>\n",
       "      <td>-14.300577</td>\n",
       "      <td>-1229.753052</td>\n",
       "      <td>0.000000</td>\n",
       "      <td>0.000000</td>\n",
       "      <td>0.000000</td>\n",
       "    </tr>\n",
       "    <tr>\n",
       "      <th>25%</th>\n",
       "      <td>224999.750000</td>\n",
       "      <td>-0.675490</td>\n",
       "      <td>-0.675162</td>\n",
       "      <td>-0.674369</td>\n",
       "      <td>-0.676114</td>\n",
       "      <td>-0.675909</td>\n",
       "      <td>-0.673437</td>\n",
       "      <td>-0.674876</td>\n",
       "      <td>1.000000</td>\n",
       "      <td>1.000000</td>\n",
       "      <td>...</td>\n",
       "      <td>-1.820063</td>\n",
       "      <td>-1.645585</td>\n",
       "      <td>-2.019739</td>\n",
       "      <td>-1.955956</td>\n",
       "      <td>-1.440424</td>\n",
       "      <td>-1.261598</td>\n",
       "      <td>-159.427418</td>\n",
       "      <td>0.000000</td>\n",
       "      <td>0.000000</td>\n",
       "      <td>0.000000</td>\n",
       "    </tr>\n",
       "    <tr>\n",
       "      <th>50%</th>\n",
       "      <td>449999.500000</td>\n",
       "      <td>0.001144</td>\n",
       "      <td>0.002014</td>\n",
       "      <td>0.002218</td>\n",
       "      <td>-0.002227</td>\n",
       "      <td>-0.001662</td>\n",
       "      <td>-0.000438</td>\n",
       "      <td>-0.001492</td>\n",
       "      <td>2.000000</td>\n",
       "      <td>2.000000</td>\n",
       "      <td>...</td>\n",
       "      <td>-0.152668</td>\n",
       "      <td>0.030850</td>\n",
       "      <td>-0.390966</td>\n",
       "      <td>-0.340746</td>\n",
       "      <td>0.160912</td>\n",
       "      <td>0.404212</td>\n",
       "      <td>-0.519808</td>\n",
       "      <td>0.000000</td>\n",
       "      <td>1.000000</td>\n",
       "      <td>0.000000</td>\n",
       "    </tr>\n",
       "    <tr>\n",
       "      <th>75%</th>\n",
       "      <td>674999.250000</td>\n",
       "      <td>0.674337</td>\n",
       "      <td>0.675021</td>\n",
       "      <td>0.677505</td>\n",
       "      <td>0.672544</td>\n",
       "      <td>0.673789</td>\n",
       "      <td>0.675028</td>\n",
       "      <td>0.674749</td>\n",
       "      <td>3.000000</td>\n",
       "      <td>3.000000</td>\n",
       "      <td>...</td>\n",
       "      <td>1.507071</td>\n",
       "      <td>1.661676</td>\n",
       "      <td>1.255408</td>\n",
       "      <td>1.266673</td>\n",
       "      <td>1.795928</td>\n",
       "      <td>2.028219</td>\n",
       "      <td>158.987357</td>\n",
       "      <td>1.000000</td>\n",
       "      <td>2.000000</td>\n",
       "      <td>1.000000</td>\n",
       "    </tr>\n",
       "    <tr>\n",
       "      <th>max</th>\n",
       "      <td>899999.000000</td>\n",
       "      <td>4.749301</td>\n",
       "      <td>4.815699</td>\n",
       "      <td>4.961982</td>\n",
       "      <td>4.454920</td>\n",
       "      <td>4.948983</td>\n",
       "      <td>4.971881</td>\n",
       "      <td>4.822668</td>\n",
       "      <td>15.000000</td>\n",
       "      <td>16.000000</td>\n",
       "      <td>...</td>\n",
       "      <td>14.455426</td>\n",
       "      <td>11.344080</td>\n",
       "      <td>12.247100</td>\n",
       "      <td>12.389844</td>\n",
       "      <td>12.529179</td>\n",
       "      <td>12.913041</td>\n",
       "      <td>1229.562577</td>\n",
       "      <td>1.000000</td>\n",
       "      <td>2.000000</td>\n",
       "      <td>1.000000</td>\n",
       "    </tr>\n",
       "  </tbody>\n",
       "</table>\n",
       "<p>8 rows × 32 columns</p>\n",
       "</div>"
      ],
      "text/plain": [
       "                  id           f_00           f_01           f_02  \\\n",
       "count  900000.000000  900000.000000  900000.000000  900000.000000   \n",
       "mean   449999.500000      -0.000286       0.001165       0.001174   \n",
       "std    259807.765473       0.998888       0.999193       1.000514   \n",
       "min         0.000000      -4.599856      -4.682199      -4.642676   \n",
       "25%    224999.750000      -0.675490      -0.675162      -0.674369   \n",
       "50%    449999.500000       0.001144       0.002014       0.002218   \n",
       "75%    674999.250000       0.674337       0.675021       0.677505   \n",
       "max    899999.000000       4.749301       4.815699       4.961982   \n",
       "\n",
       "                f_03           f_04           f_05           f_06  \\\n",
       "count  900000.000000  900000.000000  900000.000000  900000.000000   \n",
       "mean       -0.001368      -0.000571       0.000284      -0.000709   \n",
       "std         1.000175       1.000167       0.999875       0.999942   \n",
       "min        -4.658816      -4.748501      -4.750214      -4.842919   \n",
       "25%        -0.676114      -0.675909      -0.673437      -0.674876   \n",
       "50%        -0.002227      -0.001662      -0.000438      -0.001492   \n",
       "75%         0.672544       0.673789       0.675028       0.674749   \n",
       "max         4.454920       4.948983       4.971881       4.822668   \n",
       "\n",
       "                f_07           f_08  ...           f_21           f_22  \\\n",
       "count  900000.000000  900000.000000  ...  900000.000000  900000.000000   \n",
       "mean        2.031460       2.057998  ...      -0.156307      -0.009273   \n",
       "std         1.656172       1.590955  ...       2.484706       2.450797   \n",
       "min         0.000000       0.000000  ...     -13.310146     -11.853530   \n",
       "25%         1.000000       1.000000  ...      -1.820063      -1.645585   \n",
       "50%         2.000000       2.000000  ...      -0.152668       0.030850   \n",
       "75%         3.000000       3.000000  ...       1.507071       1.661676   \n",
       "max        15.000000      16.000000  ...      14.455426      11.344080   \n",
       "\n",
       "                f_23           f_24           f_25           f_26  \\\n",
       "count  900000.000000  900000.000000  900000.000000  900000.000000   \n",
       "mean       -0.369459      -0.342738       0.176549       0.357591   \n",
       "std         2.453405       2.386941       2.416959       2.476020   \n",
       "min       -12.301097     -11.416189     -11.918306     -14.300577   \n",
       "25%        -2.019739      -1.955956      -1.440424      -1.261598   \n",
       "50%        -0.390966      -0.340746       0.160912       0.404212   \n",
       "75%         1.255408       1.266673       1.795928       2.028219   \n",
       "max        12.247100      12.389844      12.529179      12.913041   \n",
       "\n",
       "                f_28           f_29           f_30         target  \n",
       "count  900000.000000  900000.000000  900000.000000  900000.000000  \n",
       "mean       -0.380876       0.345661       1.002654       0.486488  \n",
       "std       238.773054       0.475584       0.818989       0.499818  \n",
       "min     -1229.753052       0.000000       0.000000       0.000000  \n",
       "25%      -159.427418       0.000000       0.000000       0.000000  \n",
       "50%        -0.519808       0.000000       1.000000       0.000000  \n",
       "75%       158.987357       1.000000       2.000000       1.000000  \n",
       "max      1229.562577       1.000000       2.000000       1.000000  \n",
       "\n",
       "[8 rows x 32 columns]"
      ]
     },
     "execution_count": 7,
     "metadata": {},
     "output_type": "execute_result"
    }
   ],
   "source": [
    "# print basic summary statistics\n",
    "train_df.describe()"
   ]
  },
  {
   "cell_type": "code",
   "execution_count": 8,
   "id": "4d05b6d8",
   "metadata": {
    "execution": {
     "iopub.execute_input": "2022-05-22T02:51:29.187034Z",
     "iopub.status.busy": "2022-05-22T02:51:29.186743Z",
     "iopub.status.idle": "2022-05-22T02:52:07.171324Z",
     "shell.execute_reply": "2022-05-22T02:52:07.170241Z"
    },
    "papermill": {
     "duration": 38.048798,
     "end_time": "2022-05-22T02:52:07.207680",
     "exception": false,
     "start_time": "2022-05-22T02:51:29.158882",
     "status": "completed"
    },
    "tags": []
   },
   "outputs": [
    {
     "data": {
      "text/plain": [
       "<AxesSubplot:>"
      ]
     },
     "execution_count": 8,
     "metadata": {},
     "output_type": "execute_result"
    },
    {
     "data": {
      "image/png": "[encoded data removed]",
      "text/plain": [
       "<Figure size 432x288 with 1 Axes>"
      ]
     },
     "metadata": {
      "needs_background": "light"
     },
     "output_type": "display_data"
    }
   ],
   "source": [
    "# check for missing values\n",
    "sns.heatmap(train_df.isnull(), cbar=False)"
   ]
  },
  {
   "cell_type": "markdown",
   "id": "aeb6bddb",
   "metadata": {
    "papermill": {
     "duration": 0.027467,
     "end_time": "2022-05-22T02:52:07.263230",
     "exception": false,
     "start_time": "2022-05-22T02:52:07.235763",
     "status": "completed"
    },
    "tags": []
   },
   "source": [
    "Step 5: Feature Engineering"
   ]
  },
  {
   "cell_type": "markdown",
   "id": "736e70d3",
   "metadata": {
    "papermill": {
     "duration": 0.028287,
     "end_time": "2022-05-22T02:52:07.319008",
     "exception": false,
     "start_time": "2022-05-22T02:52:07.290721",
     "status": "completed"
    },
    "tags": []
   },
   "source": [
    "With reference to Correlations and Interactions notebook:\n",
    "https://www.kaggle.com/code/wti200/analysing-interactions-with-shap\n",
    "\n",
    "Observed that there is some relation between f_24 and f_25 and f_30.\n",
    "Will use that info to create new features with values -1,0,1\n"
   ]
  },
  {
   "cell_type": "code",
   "execution_count": 9,
   "id": "db06d7f4",
   "metadata": {
    "execution": {
     "iopub.execute_input": "2022-05-22T02:52:07.376689Z",
     "iopub.status.busy": "2022-05-22T02:52:07.376366Z",
     "iopub.status.idle": "2022-05-22T02:52:18.981963Z",
     "shell.execute_reply": "2022-05-22T02:52:18.981339Z"
    },
    "papermill": {
     "duration": 11.637376,
     "end_time": "2022-05-22T02:52:18.984134",
     "exception": false,
     "start_time": "2022-05-22T02:52:07.346758",
     "status": "completed"
    },
    "tags": []
   },
   "outputs": [
    {
     "data": {
      "text/plain": [
       "<AxesSubplot:xlabel='f_30', ylabel='f_24'>"
      ]
     },
     "execution_count": 9,
     "metadata": {},
     "output_type": "execute_result"
    },
    {
     "data": {
      "image/png": "[encoded data removed]",
      "text/plain": [
       "<Figure size 432x288 with 1 Axes>"
      ]
     },
     "metadata": {
      "needs_background": "light"
     },
     "output_type": "display_data"
    }
   ],
   "source": [
    "\n",
    "sns.barplot(x = 'f_30',\n",
    "            y = 'f_24',\n",
    "            data = train_df,\n",
    "           hue = 'target')"
   ]
  },
  {
   "cell_type": "code",
   "execution_count": 10,
   "id": "2cac11b4",
   "metadata": {
    "execution": {
     "iopub.execute_input": "2022-05-22T02:52:19.059606Z",
     "iopub.status.busy": "2022-05-22T02:52:19.059026Z",
     "iopub.status.idle": "2022-05-22T02:52:30.502055Z",
     "shell.execute_reply": "2022-05-22T02:52:30.501129Z"
    },
    "papermill": {
     "duration": 11.479155,
     "end_time": "2022-05-22T02:52:30.504108",
     "exception": false,
     "start_time": "2022-05-22T02:52:19.024953",
     "status": "completed"
    },
    "tags": []
   },
   "outputs": [
    {
     "data": {
      "text/plain": [
       "<AxesSubplot:xlabel='f_30', ylabel='f_25'>"
      ]
     },
     "execution_count": 10,
     "metadata": {},
     "output_type": "execute_result"
    },
    {
     "data": {
      "image/png": "[encoded data removed]",
      "text/plain": [
       "<Figure size 432x288 with 1 Axes>"
      ]
     },
     "metadata": {
      "needs_background": "light"
     },
     "output_type": "display_data"
    }
   ],
   "source": [
    "sns.barplot(x = 'f_30',\n",
    "            y = 'f_25',\n",
    "            data = train_df,\n",
    "           hue = 'target')"
   ]
  },
  {
   "cell_type": "code",
   "execution_count": 11,
   "id": "1bd50f87",
   "metadata": {
    "execution": {
     "iopub.execute_input": "2022-05-22T02:52:30.567922Z",
     "iopub.status.busy": "2022-05-22T02:52:30.567395Z",
     "iopub.status.idle": "2022-05-22T02:52:30.575025Z",
     "shell.execute_reply": "2022-05-22T02:52:30.574100Z"
    },
    "papermill": {
     "duration": 0.040143,
     "end_time": "2022-05-22T02:52:30.576898",
     "exception": false,
     "start_time": "2022-05-22T02:52:30.536755",
     "status": "completed"
    },
    "tags": []
   },
   "outputs": [],
   "source": [
    "# New features = i_25_30, i_24_30\n",
    "\n",
    "#df['i_25_30'] = (df.f_30 + df.f_25 > 5.2).astype(int) - (df.f_21 + df.f_02 < -5.3).astype(int)\n",
    "\n",
    "def feature_engg(df):\n",
    "    df['i_25_30'] = np.where( ((df['f_30'] == 0) & (df['f_25']  < -0.20)), 1,-1)\n",
    "\n",
    "    df['i_25_30'] = np.where( ((df['f_30'] == 1) & (df['f_25'] > 0.05)), 1,-1)\n",
    "                        \n",
    "    df['i_25_30'] = np.where(((df['f_30'] == 2) & (df['f_25'] > 0.10)),0,-1)\n",
    "\n",
    "\n",
    "    df['i_24_30'] = np.where( ((df['f_30'] == 0) & (df['f_24'] > 0)), 1,0)\n",
    "\n",
    "    df['i_24_30'] = np.where( ((df['f_30'] == 1) & (df['f_24']  < -0.20)), 0,-1)\n",
    "                        \n",
    "    df['i_24_30'] = np.where(((df['f_30'] == 2) & (df['f_24'] < -0.10)),1,-1)\n",
    "    \n",
    "    return df\n",
    "                         \n",
    "                         \n"
   ]
  },
  {
   "cell_type": "markdown",
   "id": "14c37694",
   "metadata": {
    "papermill": {
     "duration": 0.029665,
     "end_time": "2022-05-22T02:52:30.637535",
     "exception": false,
     "start_time": "2022-05-22T02:52:30.607870",
     "status": "completed"
    },
    "tags": []
   },
   "source": [
    "Here we just expand out feature number 27. There are 10 unique character positions in feature number 27, and the following bit of code expands feature 27 to instead be 10+ features instead of only one feature. Adding in this step boosts our score by >>5%."
   ]
  },
  {
   "cell_type": "code",
   "execution_count": 12,
   "id": "ae70b6ef",
   "metadata": {
    "_kg_hide-input": true,
    "execution": {
     "iopub.execute_input": "2022-05-22T02:52:30.698518Z",
     "iopub.status.busy": "2022-05-22T02:52:30.698096Z",
     "iopub.status.idle": "2022-05-22T02:52:30.746751Z",
     "shell.execute_reply": "2022-05-22T02:52:30.745593Z"
    },
    "papermill": {
     "duration": 0.082438,
     "end_time": "2022-05-22T02:52:30.749673",
     "exception": false,
     "start_time": "2022-05-22T02:52:30.667235",
     "status": "completed"
    },
    "tags": []
   },
   "outputs": [
    {
     "name": "stdout",
     "output_type": "stream",
     "text": [
      "Feature number 27 is a string\n",
      "with 10 different character positions (1-10)\n",
      "where each character position will contain\n",
      "one of 26 possible characters (A-Z):\n",
      "\n",
      "\n"
     ]
    },
    {
     "data": {
      "text/html": [
       "<div>\n",
       "<style scoped>\n",
       "    .dataframe tbody tr th:only-of-type {\n",
       "        vertical-align: middle;\n",
       "    }\n",
       "\n",
       "    .dataframe tbody tr th {\n",
       "        vertical-align: top;\n",
       "    }\n",
       "\n",
       "    .dataframe thead th {\n",
       "        text-align: right;\n",
       "    }\n",
       "</style>\n",
       "<table border=\"1\" class=\"dataframe\">\n",
       "  <thead>\n",
       "    <tr style=\"text-align: right;\">\n",
       "      <th></th>\n",
       "      <th>f_27</th>\n",
       "    </tr>\n",
       "  </thead>\n",
       "  <tbody>\n",
       "    <tr>\n",
       "      <th>0</th>\n",
       "      <td>ABABDADBAB</td>\n",
       "    </tr>\n",
       "    <tr>\n",
       "      <th>1</th>\n",
       "      <td>ACACCADCEB</td>\n",
       "    </tr>\n",
       "    <tr>\n",
       "      <th>2</th>\n",
       "      <td>AAAEABCKAD</td>\n",
       "    </tr>\n",
       "    <tr>\n",
       "      <th>3</th>\n",
       "      <td>BDBBAACBCB</td>\n",
       "    </tr>\n",
       "    <tr>\n",
       "      <th>4</th>\n",
       "      <td>BDBCBBCHFE</td>\n",
       "    </tr>\n",
       "  </tbody>\n",
       "</table>\n",
       "</div>"
      ],
      "text/plain": [
       "         f_27\n",
       "0  ABABDADBAB\n",
       "1  ACACCADCEB\n",
       "2  AAAEABCKAD\n",
       "3  BDBBAACBCB\n",
       "4  BDBCBBCHFE"
      ]
     },
     "execution_count": 12,
     "metadata": {},
     "output_type": "execute_result"
    }
   ],
   "source": [
    "print('Feature number 27 is a string') \n",
    "print('with 10 different character positions (1-10)') \n",
    "print('where each character position will contain')\n",
    "print('one of 26 possible characters (A-Z):\\n\\n')\n",
    "train_df[['f_27']].head()"
   ]
  },
  {
   "cell_type": "code",
   "execution_count": 13,
   "id": "407452d9",
   "metadata": {
    "_kg_hide-output": true,
    "execution": {
     "iopub.execute_input": "2022-05-22T02:52:30.812865Z",
     "iopub.status.busy": "2022-05-22T02:52:30.812322Z",
     "iopub.status.idle": "2022-05-22T02:52:42.755202Z",
     "shell.execute_reply": "2022-05-22T02:52:42.754494Z"
    },
    "papermill": {
     "duration": 11.977226,
     "end_time": "2022-05-22T02:52:42.757494",
     "exception": false,
     "start_time": "2022-05-22T02:52:30.780268",
     "status": "completed"
    },
    "tags": []
   },
   "outputs": [],
   "source": [
    "\n",
    "train_df = expand_feature_27(train_df)\n",
    "test_df = expand_feature_27(test_df)\n",
    "\n",
    "\n"
   ]
  },
  {
   "cell_type": "code",
   "execution_count": 14,
   "id": "fb9fa674",
   "metadata": {
    "execution": {
     "iopub.execute_input": "2022-05-22T02:52:42.822121Z",
     "iopub.status.busy": "2022-05-22T02:52:42.821267Z",
     "iopub.status.idle": "2022-05-22T02:52:42.935831Z",
     "shell.execute_reply": "2022-05-22T02:52:42.934856Z"
    },
    "papermill": {
     "duration": 0.149606,
     "end_time": "2022-05-22T02:52:42.938161",
     "exception": false,
     "start_time": "2022-05-22T02:52:42.788555",
     "status": "completed"
    },
    "tags": []
   },
   "outputs": [],
   "source": [
    "train_df = feature_engg(train_df)\n",
    "test_df = feature_engg(test_df)"
   ]
  },
  {
   "cell_type": "code",
   "execution_count": 15,
   "id": "142e3374",
   "metadata": {
    "_kg_hide-input": true,
    "execution": {
     "iopub.execute_input": "2022-05-22T02:52:43.000081Z",
     "iopub.status.busy": "2022-05-22T02:52:42.999509Z",
     "iopub.status.idle": "2022-05-22T02:52:43.211044Z",
     "shell.execute_reply": "2022-05-22T02:52:43.210053Z"
    },
    "papermill": {
     "duration": 0.244745,
     "end_time": "2022-05-22T02:52:43.213000",
     "exception": false,
     "start_time": "2022-05-22T02:52:42.968255",
     "status": "completed"
    },
    "tags": []
   },
   "outputs": [
    {
     "name": "stdout",
     "output_type": "stream",
     "text": [
      "\n",
      "\n",
      "New features split out from f_27:\n",
      "\n",
      "\n"
     ]
    },
    {
     "data": {
      "text/html": [
       "<div>\n",
       "<style scoped>\n",
       "    .dataframe tbody tr th:only-of-type {\n",
       "        vertical-align: middle;\n",
       "    }\n",
       "\n",
       "    .dataframe tbody tr th {\n",
       "        vertical-align: top;\n",
       "    }\n",
       "\n",
       "    .dataframe thead th {\n",
       "        text-align: right;\n",
       "    }\n",
       "</style>\n",
       "<table border=\"1\" class=\"dataframe\">\n",
       "  <thead>\n",
       "    <tr style=\"text-align: right;\">\n",
       "      <th></th>\n",
       "      <th>f_27</th>\n",
       "      <th>ch0</th>\n",
       "      <th>ch1</th>\n",
       "      <th>ch2</th>\n",
       "      <th>ch3</th>\n",
       "      <th>ch4</th>\n",
       "      <th>ch5</th>\n",
       "      <th>ch6</th>\n",
       "      <th>ch7</th>\n",
       "      <th>ch8</th>\n",
       "      <th>ch9</th>\n",
       "      <th>unique_characters</th>\n",
       "      <th>i_02_21</th>\n",
       "      <th>i_05_22</th>\n",
       "      <th>i_00_01_26</th>\n",
       "    </tr>\n",
       "  </thead>\n",
       "  <tbody>\n",
       "    <tr>\n",
       "      <th>0</th>\n",
       "      <td>ABABDADBAB</td>\n",
       "      <td>0</td>\n",
       "      <td>1</td>\n",
       "      <td>0</td>\n",
       "      <td>1</td>\n",
       "      <td>3</td>\n",
       "      <td>0</td>\n",
       "      <td>3</td>\n",
       "      <td>1</td>\n",
       "      <td>0</td>\n",
       "      <td>1</td>\n",
       "      <td>3</td>\n",
       "      <td>0</td>\n",
       "      <td>0</td>\n",
       "      <td>0</td>\n",
       "    </tr>\n",
       "    <tr>\n",
       "      <th>1</th>\n",
       "      <td>ACACCADCEB</td>\n",
       "      <td>0</td>\n",
       "      <td>2</td>\n",
       "      <td>0</td>\n",
       "      <td>2</td>\n",
       "      <td>2</td>\n",
       "      <td>0</td>\n",
       "      <td>3</td>\n",
       "      <td>2</td>\n",
       "      <td>4</td>\n",
       "      <td>1</td>\n",
       "      <td>5</td>\n",
       "      <td>0</td>\n",
       "      <td>0</td>\n",
       "      <td>0</td>\n",
       "    </tr>\n",
       "    <tr>\n",
       "      <th>2</th>\n",
       "      <td>AAAEABCKAD</td>\n",
       "      <td>0</td>\n",
       "      <td>0</td>\n",
       "      <td>0</td>\n",
       "      <td>4</td>\n",
       "      <td>0</td>\n",
       "      <td>1</td>\n",
       "      <td>2</td>\n",
       "      <td>10</td>\n",
       "      <td>0</td>\n",
       "      <td>3</td>\n",
       "      <td>6</td>\n",
       "      <td>0</td>\n",
       "      <td>0</td>\n",
       "      <td>0</td>\n",
       "    </tr>\n",
       "    <tr>\n",
       "      <th>3</th>\n",
       "      <td>BDBBAACBCB</td>\n",
       "      <td>1</td>\n",
       "      <td>3</td>\n",
       "      <td>1</td>\n",
       "      <td>1</td>\n",
       "      <td>0</td>\n",
       "      <td>0</td>\n",
       "      <td>2</td>\n",
       "      <td>1</td>\n",
       "      <td>2</td>\n",
       "      <td>1</td>\n",
       "      <td>4</td>\n",
       "      <td>0</td>\n",
       "      <td>0</td>\n",
       "      <td>0</td>\n",
       "    </tr>\n",
       "    <tr>\n",
       "      <th>4</th>\n",
       "      <td>BDBCBBCHFE</td>\n",
       "      <td>1</td>\n",
       "      <td>3</td>\n",
       "      <td>1</td>\n",
       "      <td>2</td>\n",
       "      <td>1</td>\n",
       "      <td>1</td>\n",
       "      <td>2</td>\n",
       "      <td>7</td>\n",
       "      <td>5</td>\n",
       "      <td>4</td>\n",
       "      <td>6</td>\n",
       "      <td>0</td>\n",
       "      <td>0</td>\n",
       "      <td>1</td>\n",
       "    </tr>\n",
       "  </tbody>\n",
       "</table>\n",
       "</div>"
      ],
      "text/plain": [
       "         f_27  ch0  ch1  ch2  ch3  ch4  ch5  ch6  ch7  ch8  ch9  \\\n",
       "0  ABABDADBAB    0    1    0    1    3    0    3    1    0    1   \n",
       "1  ACACCADCEB    0    2    0    2    2    0    3    2    4    1   \n",
       "2  AAAEABCKAD    0    0    0    4    0    1    2   10    0    3   \n",
       "3  BDBBAACBCB    1    3    1    1    0    0    2    1    2    1   \n",
       "4  BDBCBBCHFE    1    3    1    2    1    1    2    7    5    4   \n",
       "\n",
       "   unique_characters  i_02_21  i_05_22  i_00_01_26  \n",
       "0                  3        0        0           0  \n",
       "1                  5        0        0           0  \n",
       "2                  6        0        0           0  \n",
       "3                  4        0        0           0  \n",
       "4                  6        0        0           1  "
      ]
     },
     "execution_count": 15,
     "metadata": {},
     "output_type": "execute_result"
    }
   ],
   "source": [
    "print('\\n\\nNew features split out from f_27:\\n\\n')\n",
    "train_df[['f_27','ch0', 'ch1', 'ch2', 'ch3', 'ch4', 'ch5', 'ch6', 'ch7',\n",
    "       'ch8', 'ch9', 'unique_characters', 'i_02_21', 'i_05_22',\n",
    "       'i_00_01_26']].head()"
   ]
  },
  {
   "cell_type": "markdown",
   "id": "7bfbae7e",
   "metadata": {
    "papermill": {
     "duration": 0.030802,
     "end_time": "2022-05-22T02:52:43.274693",
     "exception": false,
     "start_time": "2022-05-22T02:52:43.243891",
     "status": "completed"
    },
    "tags": []
   },
   "source": [
    "# LGBM Model"
   ]
  },
  {
   "cell_type": "code",
   "execution_count": 16,
   "id": "96b3f31d",
   "metadata": {
    "execution": {
     "iopub.execute_input": "2022-05-22T02:52:43.338700Z",
     "iopub.status.busy": "2022-05-22T02:52:43.338268Z",
     "iopub.status.idle": "2022-05-22T02:52:44.696029Z",
     "shell.execute_reply": "2022-05-22T02:52:44.695124Z"
    },
    "papermill": {
     "duration": 1.392382,
     "end_time": "2022-05-22T02:52:44.698291",
     "exception": false,
     "start_time": "2022-05-22T02:52:43.305909",
     "status": "completed"
    },
    "tags": []
   },
   "outputs": [
    {
     "data": {
      "text/html": [
       "<style type='text/css'>\n",
       ".datatable table.frame { margin-bottom: 0; }\n",
       ".datatable table.frame thead { border-bottom: none; }\n",
       ".datatable table.frame tr.coltypes td {  color: #FFFFFF;  line-height: 6px;  padding: 0 0.5em;}\n",
       ".datatable .bool    { background: #DDDD99; }\n",
       ".datatable .object  { background: #565656; }\n",
       ".datatable .int     { background: #5D9E5D; }\n",
       ".datatable .float   { background: #4040CC; }\n",
       ".datatable .str     { background: #CC4040; }\n",
       ".datatable .time    { background: #40CC40; }\n",
       ".datatable .row_index {  background: var(--jp-border-color3);  border-right: 1px solid var(--jp-border-color0);  color: var(--jp-ui-font-color3);  font-size: 9px;}\n",
       ".datatable .frame tbody td { text-align: left; }\n",
       ".datatable .frame tr.coltypes .row_index {  background: var(--jp-border-color0);}\n",
       ".datatable th:nth-child(2) { padding-left: 12px; }\n",
       ".datatable .hellipsis {  color: var(--jp-cell-editor-border-color);}\n",
       ".datatable .vellipsis {  background: var(--jp-layout-color0);  color: var(--jp-cell-editor-border-color);}\n",
       ".datatable .na {  color: var(--jp-cell-editor-border-color);  font-size: 80%;}\n",
       ".datatable .sp {  opacity: 0.25;}\n",
       ".datatable .footer { font-size: 9px; }\n",
       ".datatable .frame_dimensions {  background: var(--jp-border-color3);  border-top: 1px solid var(--jp-border-color0);  color: var(--jp-ui-font-color3);  display: inline-block;  opacity: 0.6;  padding: 1px 10px 1px 5px;}\n",
       "</style>\n"
      ],
      "text/plain": [
       "<IPython.core.display.HTML object>"
      ]
     },
     "metadata": {},
     "output_type": "display_data"
    }
   ],
   "source": [
    "from lightgbm import LGBMClassifier\n",
    "from sklearn.metrics import roc_auc_score, accuracy_score\n",
    "from sklearn.model_selection import StratifiedKFold\n",
    "from sklearn.model_selection import train_test_split"
   ]
  },
  {
   "cell_type": "code",
   "execution_count": 17,
   "id": "5ba51250",
   "metadata": {
    "execution": {
     "iopub.execute_input": "2022-05-22T02:52:44.766636Z",
     "iopub.status.busy": "2022-05-22T02:52:44.765737Z",
     "iopub.status.idle": "2022-05-22T02:52:44.774870Z",
     "shell.execute_reply": "2022-05-22T02:52:44.773862Z"
    },
    "papermill": {
     "duration": 0.044516,
     "end_time": "2022-05-22T02:52:44.776639",
     "exception": false,
     "start_time": "2022-05-22T02:52:44.732123",
     "status": "completed"
    },
    "tags": []
   },
   "outputs": [
    {
     "data": {
      "text/plain": [
       "0         BAAABADLAC\n",
       "1         AFABBAEGCB\n",
       "2         BBACABBKEE\n",
       "3         AEBEAACQCC\n",
       "4         AEBBBBDABF\n",
       "             ...    \n",
       "699995    BCBCEBHMCD\n",
       "699996    BAABCADQFC\n",
       "699997    AAAJCBGQBA\n",
       "699998    BCBBCABNDE\n",
       "699999    AFBEBACHFF\n",
       "Name: f_27, Length: 700000, dtype: object"
      ]
     },
     "execution_count": 17,
     "metadata": {},
     "output_type": "execute_result"
    }
   ],
   "source": [
    "train_df.pop(\"f_27\")\n",
    "test_df.pop(\"f_27\")"
   ]
  },
  {
   "cell_type": "code",
   "execution_count": 18,
   "id": "ef910d16",
   "metadata": {
    "execution": {
     "iopub.execute_input": "2022-05-22T02:52:44.842457Z",
     "iopub.status.busy": "2022-05-22T02:52:44.842162Z",
     "iopub.status.idle": "2022-05-22T02:52:44.846362Z",
     "shell.execute_reply": "2022-05-22T02:52:44.845756Z"
    },
    "papermill": {
     "duration": 0.038866,
     "end_time": "2022-05-22T02:52:44.847977",
     "exception": false,
     "start_time": "2022-05-22T02:52:44.809111",
     "status": "completed"
    },
    "tags": []
   },
   "outputs": [],
   "source": [
    "y = train_df.pop(\"target\")\n"
   ]
  },
  {
   "cell_type": "code",
   "execution_count": 19,
   "id": "92c8ec56",
   "metadata": {
    "execution": {
     "iopub.execute_input": "2022-05-22T02:52:44.913399Z",
     "iopub.status.busy": "2022-05-22T02:52:44.912867Z",
     "iopub.status.idle": "2022-05-22T03:14:14.736111Z",
     "shell.execute_reply": "2022-05-22T03:14:14.734984Z"
    },
    "papermill": {
     "duration": 1289.860339,
     "end_time": "2022-05-22T03:14:14.740236",
     "exception": false,
     "start_time": "2022-05-22T02:52:44.879897",
     "status": "completed"
    },
    "tags": []
   },
   "outputs": [],
   "source": [
    "X_train,X_test, y_train, y_test = train_test_split(train_df,y,\n",
    "                                                   test_size= 0.30, random_state= 0)\n",
    "model = LGBMClassifier(n_estimators = 10000, \n",
    "                       learning_rate = 0.1, \n",
    "                       random_state=0, \n",
    "                       min_child_samples=90, num_leaves=150, max_bins=511, n_jobs=-1)\n",
    "\n",
    "model.fit(X_train,y_train)\n",
    "\n",
    "# Get predictions from test data\n",
    "predictions = model.predict(X_test)\n",
    "\n"
   ]
  },
  {
   "cell_type": "code",
   "execution_count": 20,
   "id": "bfce7089",
   "metadata": {
    "execution": {
     "iopub.execute_input": "2022-05-22T03:14:14.809399Z",
     "iopub.status.busy": "2022-05-22T03:14:14.808854Z",
     "iopub.status.idle": "2022-05-22T03:14:15.113909Z",
     "shell.execute_reply": "2022-05-22T03:14:15.113006Z"
    },
    "papermill": {
     "duration": 0.341347,
     "end_time": "2022-05-22T03:14:15.116040",
     "exception": false,
     "start_time": "2022-05-22T03:14:14.774693",
     "status": "completed"
    },
    "tags": []
   },
   "outputs": [
    {
     "name": "stdout",
     "output_type": "stream",
     "text": [
      "Overall Accuracy: 0.9720925925925926\n",
      "Overall Precision: 0.9721203120342385\n",
      "Overall Recall: 0.9720249166267305\n"
     ]
    }
   ],
   "source": [
    "from sklearn. metrics import accuracy_score, precision_score, recall_score, confusion_matrix\n",
    "\n",
    "# Get metrics\n",
    "print(\"Overall Accuracy:\",accuracy_score(y_test, predictions))\n",
    "print(\"Overall Precision:\",precision_score(y_test, predictions, average='macro'))\n",
    "print(\"Overall Recall:\",recall_score(y_test, predictions, average='macro'))\n"
   ]
  },
  {
   "cell_type": "code",
   "execution_count": 21,
   "id": "63088bc0",
   "metadata": {
    "execution": {
     "iopub.execute_input": "2022-05-22T03:14:15.182756Z",
     "iopub.status.busy": "2022-05-22T03:14:15.182177Z",
     "iopub.status.idle": "2022-05-22T03:14:15.444487Z",
     "shell.execute_reply": "2022-05-22T03:14:15.443618Z"
    },
    "papermill": {
     "duration": 0.298115,
     "end_time": "2022-05-22T03:14:15.446508",
     "exception": false,
     "start_time": "2022-05-22T03:14:15.148393",
     "status": "completed"
    },
    "tags": []
   },
   "outputs": [
    {
     "data": {
      "image/png": "[encoded data removed]",
      "text/plain": [
       "<Figure size 432x288 with 2 Axes>"
      ]
     },
     "metadata": {
      "needs_background": "light"
     },
     "output_type": "display_data"
    }
   ],
   "source": [
    "# Plot confusion matrix\n",
    "cm = confusion_matrix(y_test, predictions)\n",
    "classes = ['0','1']\n",
    "plt.imshow(cm, interpolation=\"nearest\", cmap=plt.cm.Blues)\n",
    "plt.colorbar()\n",
    "tick_marks = np.arange(len(classes))\n",
    "plt.xticks(tick_marks, classes, rotation=45)\n",
    "plt.yticks(tick_marks, classes)\n",
    "plt.title('Confusion Matrix')\n",
    "plt.xlabel(\"Predicted Variety\")\n",
    "plt.ylabel(\"Actual Variety\")\n",
    "plt.show()"
   ]
  },
  {
   "cell_type": "code",
   "execution_count": 22,
   "id": "6a5745ad",
   "metadata": {
    "execution": {
     "iopub.execute_input": "2022-05-22T03:14:15.515543Z",
     "iopub.status.busy": "2022-05-22T03:14:15.515150Z",
     "iopub.status.idle": "2022-05-22T03:19:01.947372Z",
     "shell.execute_reply": "2022-05-22T03:19:01.946338Z"
    },
    "papermill": {
     "duration": 286.469791,
     "end_time": "2022-05-22T03:19:01.950036",
     "exception": false,
     "start_time": "2022-05-22T03:14:15.480245",
     "status": "completed"
    },
    "tags": []
   },
   "outputs": [
    {
     "name": "stdout",
     "output_type": "stream",
     "text": [
      "AUC: 0.9967618278605312\n"
     ]
    },
    {
     "data": {
      "image/png": "[encoded data removed]",
      "text/plain": [
       "<Figure size 432x432 with 1 Axes>"
      ]
     },
     "metadata": {
      "needs_background": "light"
     },
     "output_type": "display_data"
    }
   ],
   "source": [
    "from sklearn.metrics import roc_curve, roc_auc_score\n",
    "\n",
    "y_scores = model.predict_proba(X_test)\n",
    "auc = roc_auc_score(y_test,y_scores[:,1])\n",
    "print('AUC: ' + str(auc))\n",
    "\n",
    "# calculate ROC curve\n",
    "fpr, tpr, thresholds = roc_curve(y_test, y_scores[:,1])\n",
    "\n",
    "# plot ROC curve\n",
    "fig = plt.figure(figsize=(6, 6))\n",
    "# Plot the diagonal 50% line\n",
    "plt.plot([0, 1], [0, 1], 'k--')\n",
    "# Plot the FPR and TPR achieved by our model\n",
    "plt.plot(fpr, tpr)\n",
    "plt.xlabel('False Positive Rate')\n",
    "plt.ylabel('True Positive Rate')\n",
    "plt.title('ROC Curve')\n",
    "plt.show()"
   ]
  },
  {
   "cell_type": "markdown",
   "id": "dddf8eb9",
   "metadata": {
    "papermill": {
     "duration": 0.03589,
     "end_time": "2022-05-22T03:19:02.022007",
     "exception": false,
     "start_time": "2022-05-22T03:19:01.986117",
     "status": "completed"
    },
    "tags": []
   },
   "source": [
    "Step 11: Submit your results"
   ]
  },
  {
   "cell_type": "code",
   "execution_count": 23,
   "id": "e6470de8",
   "metadata": {
    "execution": {
     "iopub.execute_input": "2022-05-22T03:19:02.094681Z",
     "iopub.status.busy": "2022-05-22T03:19:02.094085Z",
     "iopub.status.idle": "2022-05-22T03:50:12.025078Z",
     "shell.execute_reply": "2022-05-22T03:50:12.023739Z"
    },
    "papermill": {
     "duration": 1869.97186,
     "end_time": "2022-05-22T03:50:12.028637",
     "exception": false,
     "start_time": "2022-05-22T03:19:02.056777",
     "status": "completed"
    },
    "tags": []
   },
   "outputs": [],
   "source": [
    "#train the model with complete dataset\n",
    "\n",
    "model.fit(train_df,y)\n",
    "\n",
    "# Get predictions from test data\n",
    "pred_target = model.predict(test_df)"
   ]
  },
  {
   "cell_type": "code",
   "execution_count": 24,
   "id": "3cf97ac2",
   "metadata": {
    "_kg_hide-input": false,
    "_kg_hide-output": true,
    "execution": {
     "iopub.execute_input": "2022-05-22T03:50:12.103877Z",
     "iopub.status.busy": "2022-05-22T03:50:12.103579Z",
     "iopub.status.idle": "2022-05-22T03:50:12.984350Z",
     "shell.execute_reply": "2022-05-22T03:50:12.983208Z"
    },
    "papermill": {
     "duration": 0.920347,
     "end_time": "2022-05-22T03:50:12.986796",
     "exception": false,
     "start_time": "2022-05-22T03:50:12.066449",
     "status": "completed"
    },
    "tags": []
   },
   "outputs": [
    {
     "data": {
      "text/html": [
       "<div>\n",
       "<style scoped>\n",
       "    .dataframe tbody tr th:only-of-type {\n",
       "        vertical-align: middle;\n",
       "    }\n",
       "\n",
       "    .dataframe tbody tr th {\n",
       "        vertical-align: top;\n",
       "    }\n",
       "\n",
       "    .dataframe thead th {\n",
       "        text-align: right;\n",
       "    }\n",
       "</style>\n",
       "<table border=\"1\" class=\"dataframe\">\n",
       "  <thead>\n",
       "    <tr style=\"text-align: right;\">\n",
       "      <th></th>\n",
       "      <th>id</th>\n",
       "      <th>target</th>\n",
       "    </tr>\n",
       "  </thead>\n",
       "  <tbody>\n",
       "    <tr>\n",
       "      <th>0</th>\n",
       "      <td>900000</td>\n",
       "      <td>1</td>\n",
       "    </tr>\n",
       "    <tr>\n",
       "      <th>1</th>\n",
       "      <td>900001</td>\n",
       "      <td>1</td>\n",
       "    </tr>\n",
       "    <tr>\n",
       "      <th>2</th>\n",
       "      <td>900002</td>\n",
       "      <td>0</td>\n",
       "    </tr>\n",
       "    <tr>\n",
       "      <th>3</th>\n",
       "      <td>900003</td>\n",
       "      <td>0</td>\n",
       "    </tr>\n",
       "    <tr>\n",
       "      <th>4</th>\n",
       "      <td>900004</td>\n",
       "      <td>1</td>\n",
       "    </tr>\n",
       "  </tbody>\n",
       "</table>\n",
       "</div>"
      ],
      "text/plain": [
       "       id  target\n",
       "0  900000       1\n",
       "1  900001       1\n",
       "2  900002       0\n",
       "3  900003       0\n",
       "4  900004       1"
      ]
     },
     "execution_count": 24,
     "metadata": {},
     "output_type": "execute_result"
    }
   ],
   "source": [
    "sample_submission_df = pd.read_csv('/kaggle/input/tabular-playground-series-may-2022/sample_submission.csv')\n",
    "sample_submission_df['target'] = pred_target\n",
    "sample_submission_df.to_csv('/kaggle/working/submission.csv', index=False)\n",
    "sample_submission_df.head()"
   ]
  },
  {
   "cell_type": "markdown",
   "id": "6f84fbd6",
   "metadata": {
    "papermill": {
     "duration": 0.035956,
     "end_time": "2022-05-22T03:50:13.058586",
     "exception": false,
     "start_time": "2022-05-22T03:50:13.022630",
     "status": "completed"
    },
    "tags": []
   },
   "source": [
    "# Conclusion"
   ]
  },
  {
   "cell_type": "markdown",
   "id": "30cd5c6e",
   "metadata": {
    "papermill": {
     "duration": 0.035779,
     "end_time": "2022-05-22T03:50:13.130286",
     "exception": false,
     "start_time": "2022-05-22T03:50:13.094507",
     "status": "completed"
    },
    "tags": []
   },
   "source": [
    "Works Cited:\n",
    " - [Build, train and evaluate models with TensorFlow Decision Forests](https://www.tensorflow.org/decision_forests/tutorials/beginner_colab) from @[tensorflow](https://www.tensorflow.org/decision_forests/tutorials/)\n",
    "  - Code snippets for model training visualization \n",
    "  - See comments in plot_tfdf_model_training_curves() for more detail\n",
    " - [[TPS-MAY-22] EDA & LGBM Model](https://www.kaggle.com/code/cabaxiom/tps-may-22-eda-lgbm-model) from @[cabaxiom](https://www.kaggle.com/cabaxiom)\n",
    "  - Feature engineering code snippets\n",
    "  - See comments in expand_feature_27() for more detail\n",
    " - [TPSMAY22 Gradient-Boosting Quickstart](https://www.kaggle.com/code/ambrosm/tpsmay22-gradient-boosting-quickstart) from @[ambrosm](https://www.kaggle.com/ambrosm)\n",
    "  - Feature engineering code snippets\n",
    "  - See comments in expand_feature_27() for more detail\n",
    "\n",
    "\n",
    "Other Useful References:\n",
    " - https://www.tensorflow.org/decision_forests/tutorials/beginner_colab\n",
    " - https://www.tensorflow.org/decision_forests/tutorials/intermediate_colab\n",
    " - https://www.tensorflow.org/decision_forests/tutorials/advanced_colab"
   ]
  },
  {
   "cell_type": "code",
   "execution_count": null,
   "id": "7d7ae2d5",
   "metadata": {
    "papermill": {
     "duration": 0.034922,
     "end_time": "2022-05-22T03:50:13.201320",
     "exception": false,
     "start_time": "2022-05-22T03:50:13.166398",
     "status": "completed"
    },
    "tags": []
   },
   "outputs": [],
   "source": []
  }
 ],
 "metadata": {
  "kernelspec": {
   "display_name": "Python 3",
   "language": "python",
   "name": "python3"
  },
  "language_info": {
   "codemirror_mode": {
    "name": "ipython",
    "version": 3
   },
   "file_extension": ".py",
   "mimetype": "text/x-python",
   "name": "python",
   "nbconvert_exporter": "python",
   "pygments_lexer": "ipython3",
   "version": "3.7.12"
  },
  "papermill": {
   "default_parameters": {},
   "duration": 3552.198542,
   "end_time": "2022-05-22T03:50:14.577244",
   "environment_variables": {},
   "exception": null,
   "input_path": "__notebook__.ipynb",
   "output_path": "__notebook__.ipynb",
   "parameters": {},
   "start_time": "2022-05-22T02:51:02.378702",
   "version": "2.3.4"
  }
 },
 "nbformat": 4,
 "nbformat_minor": 5
}
